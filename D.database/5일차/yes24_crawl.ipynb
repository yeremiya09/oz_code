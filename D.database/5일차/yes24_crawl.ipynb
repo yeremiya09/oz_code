{
 "cells": [
  {
   "cell_type": "markdown",
   "metadata": {},
   "source": [
    "# 예스24 크롤링"
   ]
  },
  {
   "cell_type": "code",
   "execution_count": 2,
   "metadata": {},
   "outputs": [
    {
     "data": {
      "text/plain": [
       "'/Users/mac/.wdm/drivers/chromedriver/mac64/129.0.6668.89/chromedriver-mac-x64/chromedriver'"
      ]
     },
     "execution_count": 2,
     "metadata": {},
     "output_type": "execute_result"
    }
   ],
   "source": [
    "from webdriver_manager.chrome import ChromeDriverManager\n",
    "ChromeDriverManager().install()"
   ]
  },
  {
   "cell_type": "code",
   "execution_count": 3,
   "metadata": {},
   "outputs": [],
   "source": [
    "from selenium import webdriver\n",
    "browser = webdriver.Chrome()"
   ]
  },
  {
   "cell_type": "code",
   "execution_count": 12,
   "metadata": {},
   "outputs": [],
   "source": [
    "url = 'https://google.com'\n",
    "browser.get(url)"
   ]
  },
  {
   "cell_type": "code",
   "execution_count": 13,
   "metadata": {},
   "outputs": [
    {
     "data": {
      "text/plain": [
       "'대한민국'"
      ]
     },
     "execution_count": 13,
     "metadata": {},
     "output_type": "execute_result"
    }
   ],
   "source": [
    "from selenium.webdriver.common.by import By\n",
    "\n",
    "browser.find_element(By.CLASS_NAME, 'uU7dJb').text"
   ]
  },
  {
   "cell_type": "code",
   "execution_count": 14,
   "metadata": {},
   "outputs": [],
   "source": [
    "url = 'https://www.yes24.com/Product/category/bestseller?CategoryNumber=001&sumgb=06'\n",
    "browser.get(url)"
   ]
  },
  {
   "cell_type": "code",
   "execution_count": 15,
   "metadata": {},
   "outputs": [
    {
     "name": "stdout",
     "output_type": "stream",
     "text": [
      "https://www.yes24.com/Product/Goods/133213071\n",
      "https://www.yes24.com/Product/Goods/125557465\n",
      "https://www.yes24.com/Product/Goods/133870359\n",
      "https://www.yes24.com/Product/Goods/131930939\n",
      "https://www.yes24.com/Product/Goods/104663596\n",
      "https://www.yes24.com/Product/Goods/133312039\n",
      "https://www.yes24.com/Product/Goods/133236068\n",
      "https://www.yes24.com/Product/Goods/133199014\n",
      "https://www.yes24.com/Product/Goods/132560712\n",
      "https://www.yes24.com/Product/Goods/117014613\n",
      "https://www.yes24.com/Product/Goods/128266166\n",
      "https://www.yes24.com/Product/Goods/124999476\n",
      "https://www.yes24.com/Product/Goods/8759796\n",
      "https://www.yes24.com/Product/Goods/129602366\n",
      "https://www.yes24.com/Product/Goods/102457889\n",
      "https://www.yes24.com/Product/Goods/130174102\n",
      "https://www.yes24.com/Product/Goods/133824761\n",
      "https://www.yes24.com/Product/Goods/130135671\n",
      "https://www.yes24.com/Product/Goods/132565140\n",
      "https://www.yes24.com/Product/Goods/132181262\n",
      "https://www.yes24.com/Product/Goods/124043812\n",
      "https://www.yes24.com/Product/Goods/133813184\n",
      "https://www.yes24.com/Product/Goods/118322901\n",
      "https://www.yes24.com/Product/Goods/124043802\n"
     ]
    }
   ],
   "source": [
    "#1페이지의 링크 데이터 전부 수집\n",
    "browser.find_element(By.CLASS_NAME, 'gd_name').get_attribute('href')\n",
    "\n",
    "###1페이지 전체의 링크 데이터\n",
    "#browser.find_element(By.CLASS_NAME, 'gd_name') # element: 요소\n",
    "datas = browser.find_elements(By.CLASS_NAME, 'gd_name') # elements: 리스트\n",
    "\n",
    "for i in datas:\n",
    "    print(i.get_attribute('href'))\n",
    "\n",
    "\n"
   ]
  },
  {
   "cell_type": "code",
   "execution_count": 16,
   "metadata": {},
   "outputs": [
    {
     "name": "stdout",
     "output_type": "stream",
     "text": [
      "********** 현재 1 페이지 수집 중 입니다. **********\n",
      "********** 현재 2 페이지 수집 중 입니다. **********\n",
      "********** 현재 3 페이지 수집 중 입니다. **********\n",
      "['https://www.yes24.com/Product/Goods/133213071', 'https://www.yes24.com/Product/Goods/125557465', 'https://www.yes24.com/Product/Goods/133870359', 'https://www.yes24.com/Product/Goods/131930939', 'https://www.yes24.com/Product/Goods/104663596', 'https://www.yes24.com/Product/Goods/133312039', 'https://www.yes24.com/Product/Goods/133236068', 'https://www.yes24.com/Product/Goods/133199014', 'https://www.yes24.com/Product/Goods/132560712', 'https://www.yes24.com/Product/Goods/117014613', 'https://www.yes24.com/Product/Goods/128266166', 'https://www.yes24.com/Product/Goods/124999476', 'https://www.yes24.com/Product/Goods/8759796', 'https://www.yes24.com/Product/Goods/129602366', 'https://www.yes24.com/Product/Goods/102457889', 'https://www.yes24.com/Product/Goods/130174102', 'https://www.yes24.com/Product/Goods/133824761', 'https://www.yes24.com/Product/Goods/130135671', 'https://www.yes24.com/Product/Goods/132565140', 'https://www.yes24.com/Product/Goods/132181262', 'https://www.yes24.com/Product/Goods/124043812', 'https://www.yes24.com/Product/Goods/133813184', 'https://www.yes24.com/Product/Goods/118322901', 'https://www.yes24.com/Product/Goods/124043802', 'https://www.yes24.com/Product/Goods/133138701', 'https://www.yes24.com/Product/Goods/96547408', 'https://www.yes24.com/Product/Goods/130500819', 'https://www.yes24.com/Product/Goods/124539805', 'https://www.yes24.com/Product/Goods/122120495', 'https://www.yes24.com/Product/Goods/133896038', 'https://www.yes24.com/Product/Goods/129124029', 'https://www.yes24.com/Product/Goods/116586303', 'https://www.yes24.com/Product/Goods/123930880', 'https://www.yes24.com/Product/Goods/133128647', 'https://www.yes24.com/Product/Goods/123930891', 'https://www.yes24.com/Product/Goods/132772043', 'https://www.yes24.com/Product/Goods/104687898', 'https://www.yes24.com/Product/Goods/133757215', 'https://www.yes24.com/Product/Goods/133756359', 'https://www.yes24.com/Product/Goods/95721612', 'https://www.yes24.com/Product/Goods/128917300', 'https://www.yes24.com/Product/Goods/132190133', 'https://www.yes24.com/Product/Goods/109145992', 'https://www.yes24.com/Product/Goods/124225606', 'https://www.yes24.com/Product/Goods/67362730', 'https://www.yes24.com/Product/Goods/133812270', 'https://www.yes24.com/Product/Goods/132754223', 'https://www.yes24.com/Product/Goods/128133897', 'https://www.yes24.com/Product/Goods/125295101', 'https://www.yes24.com/Product/Goods/108192000', 'https://www.yes24.com/Product/Goods/133741785', 'https://www.yes24.com/Product/Goods/23030284', 'https://www.yes24.com/Product/Goods/79297023', 'https://www.yes24.com/Product/Goods/129094064', 'https://www.yes24.com/Product/Goods/132619282', 'https://www.yes24.com/Product/Goods/2312211', 'https://www.yes24.com/Product/Goods/110641272', 'https://www.yes24.com/Product/Goods/111680193', 'https://www.yes24.com/Product/Goods/133127953', 'https://www.yes24.com/Product/Goods/121507789', 'https://www.yes24.com/Product/Goods/124219505', 'https://www.yes24.com/Product/Goods/134021280', 'https://www.yes24.com/Product/Goods/11081680', 'https://www.yes24.com/Product/Goods/118578901', 'https://www.yes24.com/Product/Goods/133811843', 'https://www.yes24.com/Product/Goods/124409868', 'https://www.yes24.com/Product/Goods/133821851', 'https://www.yes24.com/Product/Goods/125492144', 'https://www.yes24.com/Product/Goods/125992096', 'https://www.yes24.com/Product/Goods/67114707', 'https://www.yes24.com/Product/Goods/134021461', 'https://www.yes24.com/Product/Goods/125995791']\n"
     ]
    }
   ],
   "source": [
    "#https://www.yes24.com/Product/Category/BestSeller?categoryNumber=001&pageNumber=1&pageSize=24\n",
    "#https://www.yes24.com/Product/Category/BestSeller?categoryNumber=001&pageNumber=2&pageSize=24\n",
    "#https://www.yes24.com/Product/Category/BestSeller?categoryNumber=001&pageNumber=3&pageSize=24\n",
    "\n",
    "import time\n",
    "\n",
    "link_list = []\n",
    "for i in range(1,4):\n",
    "    print(\"*\" * 10, f\"현재 {i} 페이지 수집 중 입니다.\", \"*\" * 10)\n",
    "\n",
    "    url = f'https://www.yes24.com/Product/Category/BestSeller?categoryNumber=001&pageNumber={i}&pageSize=24'\n",
    "    browser.get(url)\n",
    "\n",
    "    #1페이지의 링크 데이터 전부 수집\n",
    "    browser.find_element(By.CLASS_NAME, 'gd_name').get_attribute('href')\n",
    "\n",
    "    ###1페이지 전체의 링크 데이터\n",
    "    #browser.find_element(By.CLASS_NAME, 'gd_name') # element: 요소\n",
    "    datas = browser.find_elements(By.CLASS_NAME, 'gd_name') # elements: 리스트\n",
    "\n",
    "    for i in datas:\n",
    "        link = i.get_attribute('href')\n",
    "        link_list.append(link)\n",
    "\n",
    "\n",
    "    time.sleep(3)\n",
    "    \n",
    "print(link_list)    "
   ]
  },
  {
   "cell_type": "code",
   "execution_count": 17,
   "metadata": {},
   "outputs": [
    {
     "data": {
      "text/plain": [
       "72"
      ]
     },
     "execution_count": 17,
     "metadata": {},
     "output_type": "execute_result"
    }
   ],
   "source": [
    "len(link_list)"
   ]
  },
  {
   "cell_type": "code",
   "execution_count": 23,
   "metadata": {},
   "outputs": [
    {
     "data": {
      "text/plain": [
       "('트렌드 코리아 2025',\n",
       " '김난도, 전미영, 최지혜, 권정윤, 한다혜 저 외 5명 정보 더 보기/감추기',\n",
       " '미래의창',\n",
       " '2024년 09월 25일',\n",
       " '9.7',\n",
       " '29',\n",
       " '320,781',\n",
       " '20,000',\n",
       " '베스트 국내도서 1위',\n",
       " '국내도서 1위 1주')"
      ]
     },
     "execution_count": 23,
     "metadata": {},
     "output_type": "execute_result"
    }
   ],
   "source": [
    "browser.get(link_list[0])\n",
    "\n",
    "title = browser.find_element(By.CLASS_NAME, 'gd_name').text\n",
    "author = browser.find_element(By.CLASS_NAME, 'gd_auth').text\n",
    "publisher = browser.find_element(By.CLASS_NAME, 'gd_pub').text\n",
    "publishing = browser.find_element(By.CLASS_NAME, 'gd_date').text\n",
    "rating = browser.find_element(By.CLASS_NAME, 'yes_b').text\n",
    "reviews = browser.find_element(By.CLASS_NAME, 'txC_blue').text\n",
    "sales = browser.find_element(By.CLASS_NAME, 'gd_sellNum').text.split(\" \")[2]\n",
    "price = browser.find_element(By.CLASS_NAME, 'yes_m').text[:-1]\n",
    "ranking = browser.find_element(By.CLASS_NAME, 'gd_best').text.split(\" | \")[0]\n",
    "ranking_weeks = browser.find_element(By.CLASS_NAME, 'gd_best').text.split(\" | \")[1]\n",
    "\n",
    "title, author, publisher, publishing, rating, reviews, sales, price, ranking, ranking_weeks\n"
   ]
  },
  {
   "cell_type": "code",
   "execution_count": 41,
   "metadata": {},
   "outputs": [
    {
     "ename": "KeyboardInterrupt",
     "evalue": "",
     "output_type": "error",
     "traceback": [
      "\u001b[0;31m---------------------------------------------------------------------------\u001b[0m",
      "\u001b[0;31mKeyboardInterrupt\u001b[0m                         Traceback (most recent call last)",
      "Cell \u001b[0;32mIn[41], line 80\u001b[0m\n\u001b[1;32m     77\u001b[0m cur\u001b[38;5;241m.\u001b[39mexecute(sql, (title, author, publisher, publishing, rating, reviews, sales, price, ranking, ranking_weeks))\n\u001b[1;32m     78\u001b[0m conn\u001b[38;5;241m.\u001b[39mcommit()\n\u001b[0;32m---> 80\u001b[0m \u001b[43mtime\u001b[49m\u001b[38;5;241;43m.\u001b[39;49m\u001b[43msleep\u001b[49m\u001b[43m(\u001b[49m\u001b[38;5;241;43m2\u001b[39;49m\u001b[43m)\u001b[49m\n",
      "\u001b[0;31mKeyboardInterrupt\u001b[0m: "
     ]
    }
   ],
   "source": [
    "import pymysql\n",
    "import time\n",
    "import re\n",
    "from datetime import datetime\n",
    "\n",
    "conn = pymysql.connect(\n",
    "    host='localhost',\n",
    "    user='root',\n",
    "    password='class-password',  \n",
    "    db='yes24',\n",
    "    charset='utf8mb4',\n",
    "    cursorclass=pymysql.cursors.DictCursor  \n",
    ")\n",
    "\n",
    "with conn.cursor() as cur:\n",
    "\n",
    "    for link in link_list:\n",
    "        browser.get(link)\n",
    "\n",
    "        title = browser.find_element(By.CLASS_NAME, 'gd_name').text\n",
    "        author = browser.find_element(By.CLASS_NAME, 'gd_auth').text\n",
    "        publisher = browser.find_element(By.CLASS_NAME, 'gd_pub').text\n",
    "        publishing = browser.find_element(By.CLASS_NAME, 'gd_date').text\n",
    "        \n",
    "        match = re.search(r'(\\d+)년 (\\d+)월 (\\d+)일', publishing)\n",
    "        \n",
    "        if match:\n",
    "            year, month, day = match.groups()\n",
    "            data_obj = datetime(int(year), int(month), int (day))\n",
    "            publishing = data_obj.strftime(\"%Y-%m-%d\")\n",
    "        else:\n",
    "            publishing = \"2023-01-01\"    \n",
    "\n",
    "        rating = browser.find_element(By.CLASS_NAME, 'yes_b').text\n",
    "        try:\n",
    "            rating = float(rating.replace(\",\", \"\"))\n",
    "            if rating > 999.99:  # 너무 큰 값이 있으면 999.99로 설정\n",
    "                rating = 999.99\n",
    "        except ValueError:\n",
    "            rating = 0.0  # 값이 없거나 변환 불가능하면 0.0으로 설정\n",
    "\n",
    "        reviews = browser.find_element(By.CLASS_NAME, 'txC_blue').text\n",
    "        try:\n",
    "            reviews = int(reviews.replace(\",\", \"\"))\n",
    "        except ValueError:\n",
    "            reviews = 0  # '예약판매' 같은 경우에 기본값으로 0을 설정\n",
    "\n",
    "        sales = browser.find_element(By.CLASS_NAME, 'gd_sellNum').text.split(\" \")[2]\n",
    "        sales = int(sales.replace(\",\",\"\"))\n",
    "\n",
    "        price = browser.find_element(By.CLASS_NAME, 'yes_m').text[:-1]\n",
    "        price = int(price.replace(\",\",\"\"))\n",
    "\n",
    "        full_text = browser.find_element(By.CLASS_NAME, 'gd_best').text\n",
    "        parts = full_text.split(\" | \")\n",
    "        try:\n",
    "            ranking_part = parts[0]\n",
    "            ranking = ''.join(filter(str.isdigit, ranking_part))\n",
    "        except:\n",
    "            ranking = 0\n",
    "\n",
    "        try:\n",
    "            ranking_weeks_part = parts[1]\n",
    "            ranking_weeks = ''.join(filter(str.isdigit, ranking_weeks_part.split()[-1]))\n",
    "        except:    \n",
    "            ranking_weeks = 0\n",
    "\n",
    "        \n",
    "        sql = \"\"\"INSERT INTO Books(\n",
    "            title, author, publisher, publishing, rating, reviews, sales, price, ranking, ranking_weeks\n",
    "            )\n",
    "            VALUES(\n",
    "            %s, %s, %s, %s, %s, %s, %s, %s, %s, %s\n",
    "            )\n",
    "            \"\"\"\n",
    "\n",
    "        cur.execute(sql, (title, author, publisher, publishing, rating, reviews, sales, price, ranking, ranking_weeks))\n",
    "        conn.commit()\n",
    "\n",
    "        time.sleep(2)"
   ]
  },
  {
   "cell_type": "code",
   "execution_count": 44,
   "metadata": {},
   "outputs": [
    {
     "name": "stdout",
     "output_type": "stream",
     "text": [
      "Database connection error: (2003, \"Can't connect to MySQL server on 'localhost' ([Errno 61] Connection refused)\")\n"
     ]
    },
    {
     "ename": "Error",
     "evalue": "Already closed",
     "output_type": "error",
     "traceback": [
      "\u001b[0;31m---------------------------------------------------------------------------\u001b[0m",
      "\u001b[0;31mError\u001b[0m                                     Traceback (most recent call last)",
      "Cell \u001b[0;32mIn[44], line 77\u001b[0m\n\u001b[1;32m     74\u001b[0m     \u001b[38;5;28mprint\u001b[39m(\u001b[38;5;124mf\u001b[39m\u001b[38;5;124m\"\u001b[39m\u001b[38;5;124mDatabase connection error: \u001b[39m\u001b[38;5;132;01m{\u001b[39;00me\u001b[38;5;132;01m}\u001b[39;00m\u001b[38;5;124m\"\u001b[39m)\n\u001b[1;32m     76\u001b[0m \u001b[38;5;28;01mfinally\u001b[39;00m:\n\u001b[0;32m---> 77\u001b[0m     \u001b[43mconn\u001b[49m\u001b[38;5;241;43m.\u001b[39;49m\u001b[43mclose\u001b[49m\u001b[43m(\u001b[49m\u001b[43m)\u001b[49m\n",
      "File \u001b[0;32m/Library/Frameworks/Python.framework/Versions/3.12/lib/python3.12/site-packages/pymysql/connections.py:414\u001b[0m, in \u001b[0;36mConnection.close\u001b[0;34m(self)\u001b[0m\n\u001b[1;32m    405\u001b[0m \u001b[38;5;250m\u001b[39m\u001b[38;5;124;03m\"\"\"\u001b[39;00m\n\u001b[1;32m    406\u001b[0m \u001b[38;5;124;03mSend the quit message and close the socket.\u001b[39;00m\n\u001b[1;32m    407\u001b[0m \n\u001b[0;32m   (...)\u001b[0m\n\u001b[1;32m    411\u001b[0m \u001b[38;5;124;03m:raise Error: If the connection is already closed.\u001b[39;00m\n\u001b[1;32m    412\u001b[0m \u001b[38;5;124;03m\"\"\"\u001b[39;00m\n\u001b[1;32m    413\u001b[0m \u001b[38;5;28;01mif\u001b[39;00m \u001b[38;5;28mself\u001b[39m\u001b[38;5;241m.\u001b[39m_closed:\n\u001b[0;32m--> 414\u001b[0m     \u001b[38;5;28;01mraise\u001b[39;00m err\u001b[38;5;241m.\u001b[39mError(\u001b[38;5;124m\"\u001b[39m\u001b[38;5;124mAlready closed\u001b[39m\u001b[38;5;124m\"\u001b[39m)\n\u001b[1;32m    415\u001b[0m \u001b[38;5;28mself\u001b[39m\u001b[38;5;241m.\u001b[39m_closed \u001b[38;5;241m=\u001b[39m \u001b[38;5;28;01mTrue\u001b[39;00m\n\u001b[1;32m    416\u001b[0m \u001b[38;5;28;01mif\u001b[39;00m \u001b[38;5;28mself\u001b[39m\u001b[38;5;241m.\u001b[39m_sock \u001b[38;5;129;01mis\u001b[39;00m \u001b[38;5;28;01mNone\u001b[39;00m:\n",
      "\u001b[0;31mError\u001b[0m: Already closed"
     ]
    }
   ],
   "source": [
    "import pymysql\n",
    "import time\n",
    "import re\n",
    "from datetime import datetime\n",
    "from selenium.webdriver.common.by import By\n",
    "\n",
    "try:\n",
    "    conn = pymysql.connect(\n",
    "        host='localhost',\n",
    "        user='root',\n",
    "        password='class-password',  \n",
    "        db='yes24',\n",
    "        charset='utf8mb4',\n",
    "        cursorclass=pymysql.cursors.DictCursor  \n",
    "    )\n",
    "    \n",
    "    with conn.cursor() as cur:\n",
    "        for link in link_list:\n",
    "            browser.get(link)\n",
    "            try:\n",
    "                title = browser.find_element(By.CLASS_NAME, 'gd_name').text\n",
    "                author = browser.find_element(By.CLASS_NAME, 'gd_auth').text\n",
    "                publisher = browser.find_element(By.CLASS_NAME, 'gd_pub').text\n",
    "                publishing = browser.find_element(By.CLASS_NAME, 'gd_date').text\n",
    "\n",
    "                match = re.search(r'(\\d+)년 (\\d+)월 (\\d+)일', publishing)\n",
    "                if match:\n",
    "                    year, month, day = match.groups()\n",
    "                    data_obj = datetime(int(year), int(month), int(day))\n",
    "                    publishing = data_obj.strftime(\"%Y-%m-%d\")\n",
    "                else:\n",
    "                    publishing = \"2023-01-01\"    \n",
    "\n",
    "                rating = browser.find_element(By.CLASS_NAME, 'yes_b').text\n",
    "                try:\n",
    "                    rating = float(rating.replace(\",\", \"\"))\n",
    "                    if rating > 999.99:\n",
    "                        rating = 999.99\n",
    "                except ValueError:\n",
    "                    rating = 0.0\n",
    "\n",
    "                reviews = browser.find_element(By.CLASS_NAME, 'txC_blue').text\n",
    "                try:\n",
    "                    reviews = int(reviews.replace(\",\", \"\"))\n",
    "                except ValueError:\n",
    "                    reviews = 0\n",
    "\n",
    "                sales = browser.find_element(By.CLASS_NAME, 'gd_sellNum').text.split(\" \")[2]\n",
    "                sales = int(sales.replace(\",\", \"\"))\n",
    "\n",
    "                price = browser.find_element(By.CLASS_NAME, 'yes_m').text[:-1]\n",
    "                price = int(price.replace(\",\", \"\"))\n",
    "\n",
    "                full_text = browser.find_element(By.CLASS_NAME, 'gd_best').text\n",
    "                parts = full_text.split(\" | \")\n",
    "                ranking = ''.join(filter(str.isdigit, parts[0])) if len(parts) > 0 else 0\n",
    "                ranking_weeks = ''.join(filter(str.isdigit, parts[1].split()[-1])) if len(parts) > 1 else 0\n",
    "\n",
    "                sql = \"\"\"INSERT INTO Books(\n",
    "                    title, author, publisher, publishing, rating, reviews, sales, price, ranking, ranking_weeks\n",
    "                    )\n",
    "                    VALUES(\n",
    "                    %s, %s, %s, %s, %s, %s, %s, %s, %s, %s\n",
    "                    )\n",
    "                    \"\"\"\n",
    "                cur.execute(sql, (title, author, publisher, publishing, rating, reviews, sales, price, ranking, ranking_weeks))\n",
    "                conn.commit()\n",
    "                time.sleep(2)\n",
    "\n",
    "            except Exception as e:\n",
    "                print(f\"Error processing link {link}: {e}\")\n",
    "\n",
    "except pymysql.MySQLError as e:\n",
    "    print(f\"Database connection error: {e}\")\n",
    "\n",
    "finally:\n",
    "    conn.close()\n"
   ]
  }
 ],
 "metadata": {
  "kernelspec": {
   "display_name": "Python 3",
   "language": "python",
   "name": "python3"
  },
  "language_info": {
   "codemirror_mode": {
    "name": "ipython",
    "version": 3
   },
   "file_extension": ".py",
   "mimetype": "text/x-python",
   "name": "python",
   "nbconvert_exporter": "python",
   "pygments_lexer": "ipython3",
   "version": "3.12.5"
  }
 },
 "nbformat": 4,
 "nbformat_minor": 2
}
